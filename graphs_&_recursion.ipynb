{
 "cells": [
  {
   "cell_type": "code",
   "execution_count": 11,
   "metadata": {},
   "outputs": [
    {
     "name": "stdout",
     "output_type": "stream",
     "text": [
      "BFS Traversal starting from Kampala:\n",
      "Kampala Jinja Entebbe Mbarara Masaka Mbale Kabale "
     ]
    }
   ],
   "source": [
    "from collections import deque\n",
    "\n",
    "def bfs(graph, start_city):\n",
    "    visited = set()\n",
    "    queue = deque([start_city])  \n",
    "    visited.add(start_city)\n",
    "    \n",
    "    while queue:\n",
    "        current_city = queue.popleft()  \n",
    "        print(current_city, end=\" \")\n",
    "        \n",
    "        for neighbor in graph[current_city]:\n",
    "            if neighbor not in visited:\n",
    "                visited.add(neighbor)\n",
    "                queue.append(neighbor)\n",
    "\n",
    "# Road network in Uganda as an adjacency list\n",
    "uganda_road_network = {\n",
    "    'Kampala': ['Jinja', 'Entebbe', 'Mbarara', 'Masaka'],\n",
    "    'Jinja': ['Kampala', 'Mbale'],\n",
    "    'Entebbe': ['Kampala'],\n",
    "    'Mbarara': ['Kampala', 'Kabale'],\n",
    "    'Masaka': ['Kampala'],\n",
    "    'Mbale': ['Jinja'],\n",
    "    'Kabale': ['Mbarara']\n",
    "}\n",
    "\n",
    "\n",
    "#TEST BFS\n",
    "print(\"BFS Traversal starting from Kampala:\")\n",
    "bfs(uganda_road_network, 'Kampala')"
   ]
  },
  {
   "cell_type": "code",
   "execution_count": 3,
   "metadata": {},
   "outputs": [
    {
     "name": "stdout",
     "output_type": "stream",
     "text": [
      "DFS Traversal starting from Kampala:\n",
      "Kampala Jinja Mbale Entebbe Mbarara Kabale Masaka "
     ]
    }
   ],
   "source": [
    "def dfs(graph, city, visited=None):\n",
    "    if visited is None:\n",
    "        visited = set()\n",
    "    \n",
    "    visited.add(city)\n",
    "    print(city, end=\" \")\n",
    "\n",
    "    for neighbor in graph[city]:\n",
    "        if neighbor not in visited:\n",
    "            dfs(graph, neighbor, visited)\n",
    "\n",
    "# Test DFS\n",
    "print(\"DFS Traversal starting from Kampala:\")\n",
    "dfs(uganda_road_network, 'Kampala')\n"
   ]
  },
  {
   "cell_type": "code",
   "execution_count": 1,
   "metadata": {},
   "outputs": [
    {
     "name": "stdout",
     "output_type": "stream",
     "text": [
      "fib(0) = 0, fib(1) = 1, fib(2) = 1, fib(3) = 2, fib(4) = 3, fib(5) = 5, fib(6) = 8, fib(7) = 13, fib(8) = 21, fib(9) = 34, "
     ]
    }
   ],
   "source": [
    "def fibonacci(n, memo=None):\n",
    "    if memo is None:\n",
    "        memo = {}  # Initialize memoization dictionary\n",
    "    \n",
    "    # Check if result is already memoized\n",
    "    if n in memo:\n",
    "        return memo[n]\n",
    "    \n",
    "    # Base cases\n",
    "    if n <= 1:\n",
    "        return n\n",
    "    \n",
    "    # Recursive case with memoization\n",
    "    memo[n] = fibonacci(n-1, memo) + fibonacci(n-2, memo)\n",
    "    return memo[n]\n",
    "\n",
    "# Test the function\n",
    "for i in range(10):\n",
    "    print(f\"fib({i}) = {fibonacci(i)}\", end=\", \")\n",
    "# Output: fib(0) = 0, fib(1) = 1, fib(2) = 1, fib(3) = 2, fib(4) = 3, \n",
    "#         fib(5) = 5, fib(6) = 8, fib(7) = 13, fib(8) = 21, fib(9) = 34,"
   ]
  },
  {
   "cell_type": "code",
   "execution_count": 2,
   "metadata": {},
   "outputs": [
    {
     "name": "stdout",
     "output_type": "stream",
     "text": [
      "Is there a subset summing to 9? True\n"
     ]
    }
   ],
   "source": [
    "def subset_sum(numbers, target, index=None):\n",
    "    if index is None:\n",
    "        index = len(numbers) - 1  # Start from the last index\n",
    "    \n",
    "    # Base cases\n",
    "    if target == 0:\n",
    "        return True\n",
    "    if index < 0:\n",
    "        return False\n",
    "    \n",
    "    # Recursive cases: include or exclude the current number\n",
    "    # Include numbers[index]\n",
    "    if numbers[index] <= target:\n",
    "        if subset_sum(numbers, target - numbers[index], index - 1):\n",
    "            return True\n",
    "    \n",
    "    # Exclude numbers[index]\n",
    "    return subset_sum(numbers, target, index - 1)\n",
    "\n",
    "# Test the function\n",
    "numbers = [3, 34, 4, 12, 5, 2]\n",
    "target = 9\n",
    "print(f\"Is there a subset summing to {target}? {subset_sum(numbers, target)}\")\n",
    "# Output: Is there a subset summing to 9? True (e.g., [4, 5])"
   ]
  }
 ],
 "metadata": {
  "kernelspec": {
   "display_name": "Python 3",
   "language": "python",
   "name": "python3"
  },
  "language_info": {
   "codemirror_mode": {
    "name": "ipython",
    "version": 3
   },
   "file_extension": ".py",
   "mimetype": "text/x-python",
   "name": "python",
   "nbconvert_exporter": "python",
   "pygments_lexer": "ipython3",
   "version": "3.12.5"
  }
 },
 "nbformat": 4,
 "nbformat_minor": 2
}
