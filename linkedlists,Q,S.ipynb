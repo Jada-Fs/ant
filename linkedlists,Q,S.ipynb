{
 "cells": [
  {
   "cell_type": "markdown",
   "metadata": {},
   "source": [
    "# Linked lists, Queues and stacks."
   ]
  },
  {
   "cell_type": "code",
   "execution_count": 11,
   "metadata": {},
   "outputs": [
    {
     "name": "stdout",
     "output_type": "stream",
     "text": [
      "-- Triangle system --\n",
      "Treating: Maria - Critical (Priority: 5)\n",
      "Treating: Jada - Moderate (Priority: 3)\n",
      "Treating: Lisa- Minor (Priority: 2)\n"
     ]
    }
   ],
   "source": [
    "# Priority Queue to simulate an emergency room patient triagle system\n",
    "class Patient:\n",
    "    name = \"\"\n",
    "    priority = 0\n",
    "\n",
    "def create_patient(name, priority):# helps to create patient objects\n",
    "    p = Patient()\n",
    "    p.name = name\n",
    "    p.priority = priority\n",
    "    return p# returns a configured patient object\n",
    "\n",
    "def insert_patient(patients, patient):# adds a patient in the apropriate queue\n",
    "    patients.append(patient)\n",
    "    patients.sort(key=lambda x: x.priority, reverse=True)#sorts in descending order\n",
    "\n",
    "def extract_max_patient(patients):# removes and returns the highest priority patient.\n",
    "    if not patients:# if the list is empty\n",
    "        return None\n",
    "    return patients.pop(0)\n",
    "\n",
    "# demostration function showing the triange system. \n",
    "def triangle_system():\n",
    "    print(\"-- Triangle system --\")\n",
    "    patients = []\n",
    "    insert_patient(patients, create_patient(\"Lisa- Minor\", 2))\n",
    "    insert_patient(patients, create_patient(\"Maria - Critical\", 5))\n",
    "    insert_patient(patients, create_patient(\"Jada - Moderate\", 3))\n",
    "    # we insert three members with different priorities\n",
    "    while patient := extract_max_patient(patients):# process patients in priority order using while loop\n",
    "        print(f\"Treating: {patient.name} (Priority: {patient.priority})\")\n",
    "\n",
    "triangle_system()"
   ]
  },
  {
   "cell_type": "markdown",
   "metadata": {},
   "source": [
    "priority queue, is implemented using a sorted list. This implementation effectively demonstrates a triage system where:\n",
    "\n",
    "Patients are prioritized based on conditions.\n",
    "Critical cases are treated before moderate ones\n",
    "Moderate cases precede minor ones\n",
    "The system continues until all patients are treated"
   ]
  },
  {
   "cell_type": "code",
   "execution_count": 10,
   "metadata": {},
   "outputs": [
    {
     "name": "stdout",
     "output_type": "stream",
     "text": [
      "-- Network Buffer --\n",
      "Buffer full - Packet dropped\n",
      "Processed: Packet 1\n",
      "Processed: Packet 2\n",
      "Processed: Packet 3\n"
     ]
    }
   ],
   "source": [
    "# Circular Queue for Network Packets \n",
    "def create_circular_queue(size):# function that creates a circular queue as a dictionary\n",
    "    return {\n",
    "        'queue': [None] * size,#List of given size initialized with None values\n",
    "        'size': size,\n",
    "        'front': 0,\n",
    "        'rear': 0,\n",
    "        'count': 0\n",
    "    }\n",
    "\n",
    "def enqueue_packet(cq, packet):# adds a cheque to the packet\n",
    "    if cq['count'] == cq['size']:# check if queue is full\n",
    "        print(\"Buffer full - Packet dropped\")\n",
    "        return False\n",
    "    cq['queue'][cq['rear']] = packet\n",
    "    cq['rear'] = (cq['rear'] + 1) % cq['size']\n",
    "    cq['count'] += 1\n",
    "    return True\n",
    "\n",
    "def dequeue_packet(cq):# removes and returns a packet from the queue\n",
    "    if cq['count'] == 0:\n",
    "        return None\n",
    "    packet = cq['queue'][cq['front']]\n",
    "    cq['front'] = (cq['front'] + 1) % cq['size']\n",
    "    cq['count'] -= 1\n",
    "    return packet\n",
    "\n",
    "# demostration of a circular queue\n",
    "def network_buffer():\n",
    "    print(\"-- Network Buffer --\")\n",
    "    network = create_circular_queue(3)# create a queue of size 3\n",
    "    enqueue_packet(network, \"Packet 1\")\n",
    "    enqueue_packet(network, \"Packet 2\")\n",
    "    enqueue_packet(network, \"Packet 3\")\n",
    "    enqueue_packet(network, \"Packet 4\")  # Dropped\n",
    "    \n",
    "    while packet := dequeue_packet(network):\n",
    "        print(f\"Processed: {packet}\")\n",
    "\n",
    "network_buffer()"
   ]
  },
  {
   "cell_type": "markdown",
   "metadata": {},
   "source": [
    "circular queue, is a queue where indices wrap around using modulo. it uses the FIFO approach packets are processed in their order of arrival.\n",
    "when the buffer is full, new packets are discarded this simulates the real network behavior\n",
    "in otherwords, this implementation effectively shows how a circular queue manages network packets with a fixed buffer size, dropping excess packets when full, and processing them in the order they arrived."
   ]
  },
  {
   "cell_type": "code",
   "execution_count": null,
   "metadata": {},
   "outputs": [
    {
     "name": "stdout",
     "output_type": "stream",
     "text": [
      "-- Call Stack --\n",
      "Returning from: func2\n",
      "Returning from: func1\n",
      "Returning from: main\n"
     ]
    }
   ],
   "source": [
    "# Stack for Function Calls\n",
    "def create_call_stack():# creates an empty stack \n",
    "    return []# returns a new empty list to store function calls.\n",
    "\n",
    "def push_call(stack, function):# a function that adds name to the top of a stack\n",
    "    stack.append(function)\n",
    "\n",
    "def pop_call(stack):# removes and returns the top function from the stack\n",
    "    if not stack:\n",
    "        return None\n",
    "    return stack.pop()# to remove and return last element\n",
    "# demostration of the stack for function calls\n",
    "def call_stack():# \n",
    "    print(\"-- Call Stack --\")\n",
    "    calls = create_call_stack()\n",
    "    push_call(calls, \"main\")\n",
    "    push_call(calls, \"func1\")\n",
    "    push_call(calls, \"func2\")\n",
    "    # create a stack and we push three functions\n",
    "    while call := pop_call(calls):# pops and prints the reverse order\n",
    "        print(f\"Returning from: {call}\")\n",
    "\n",
    "\n",
    "call_stack()"
   ]
  },
  {
   "cell_type": "markdown",
   "metadata": {},
   "source": [
    "a stack works on the LIFO (Last-In-First-Out) principle. and function calls simulate how programs track function calls.\n",
    "inother words, this implementation effectively demonstrates how a stack manages function call order, with the most recently called function being the first to return, mirroring real program execution behavior."
   ]
  }
 ],
 "metadata": {
  "kernelspec": {
   "display_name": "Python 3",
   "language": "python",
   "name": "python3"
  },
  "language_info": {
   "codemirror_mode": {
    "name": "ipython",
    "version": 3
   },
   "file_extension": ".py",
   "mimetype": "text/x-python",
   "name": "python",
   "nbconvert_exporter": "python",
   "pygments_lexer": "ipython3",
   "version": "3.12.2"
  }
 },
 "nbformat": 4,
 "nbformat_minor": 2
}
